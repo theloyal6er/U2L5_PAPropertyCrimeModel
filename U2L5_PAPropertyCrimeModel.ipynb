{
 "cells": [
  {
   "cell_type": "code",
   "execution_count": 26,
   "metadata": {},
   "outputs": [],
   "source": [
    "%matplotlib inline\n",
    "import numpy as np\n",
    "import pandas as pd\n",
    "import scipy\n",
    "import sklearn\n",
    "import matplotlib.pyplot as plt\n",
    "from sklearn import linear_model\n",
    "import seaborn as sns\n",
    "import statsmodels.formula.api as smf\n",
    "from statsmodels.sandbox.regression.predstd import wls_prediction_std"
   ]
  },
  {
   "cell_type": "code",
   "execution_count": 22,
   "metadata": {},
   "outputs": [],
   "source": [
    "data_path = ('/Users/jasonpaik9/Documents/Thinkful/Bootcamp/Unit 2/PAStateCrime.csv')"
   ]
  },
  {
   "cell_type": "code",
   "execution_count": 23,
   "metadata": {
    "scrolled": true
   },
   "outputs": [],
   "source": [
    "raw_data = pd.read_csv(data_path)"
   ]
  },
  {
   "cell_type": "code",
   "execution_count": 99,
   "metadata": {
    "scrolled": true
   },
   "outputs": [
    {
     "data": {
      "text/html": [
       "<div>\n",
       "<style scoped>\n",
       "    .dataframe tbody tr th:only-of-type {\n",
       "        vertical-align: middle;\n",
       "    }\n",
       "\n",
       "    .dataframe tbody tr th {\n",
       "        vertical-align: top;\n",
       "    }\n",
       "\n",
       "    .dataframe thead th {\n",
       "        text-align: right;\n",
       "    }\n",
       "</style>\n",
       "<table border=\"1\" class=\"dataframe\">\n",
       "  <thead>\n",
       "    <tr style=\"text-align: right;\">\n",
       "      <th></th>\n",
       "      <th>City</th>\n",
       "      <th>Population</th>\n",
       "      <th>ViolentCrime</th>\n",
       "      <th>Murder</th>\n",
       "      <th>Rape</th>\n",
       "      <th>Robbery</th>\n",
       "      <th>AggravatedAssault</th>\n",
       "      <th>PropertyCrime</th>\n",
       "      <th>Burglary</th>\n",
       "      <th>Theft</th>\n",
       "      <th>MotorTheft</th>\n",
       "      <th>Arson</th>\n",
       "    </tr>\n",
       "  </thead>\n",
       "  <tbody>\n",
       "    <tr>\n",
       "      <th>0</th>\n",
       "      <td>Abington Township, Lackawanna County</td>\n",
       "      <td>1750.0</td>\n",
       "      <td>1.0</td>\n",
       "      <td>0.0</td>\n",
       "      <td>0.0</td>\n",
       "      <td>0.0</td>\n",
       "      <td>1.0</td>\n",
       "      <td>14.0</td>\n",
       "      <td>4.0</td>\n",
       "      <td>10.0</td>\n",
       "      <td>0.0</td>\n",
       "      <td>0.0</td>\n",
       "    </tr>\n",
       "    <tr>\n",
       "      <th>1</th>\n",
       "      <td>Abington Township, Montgomery County</td>\n",
       "      <td>55559.0</td>\n",
       "      <td>63.0</td>\n",
       "      <td>0.0</td>\n",
       "      <td>5.0</td>\n",
       "      <td>28.0</td>\n",
       "      <td>30.0</td>\n",
       "      <td>1146.0</td>\n",
       "      <td>169.0</td>\n",
       "      <td>952.0</td>\n",
       "      <td>25.0</td>\n",
       "      <td>4.0</td>\n",
       "    </tr>\n",
       "    <tr>\n",
       "      <th>2</th>\n",
       "      <td>Adamstown</td>\n",
       "      <td>1845.0</td>\n",
       "      <td>0.0</td>\n",
       "      <td>0.0</td>\n",
       "      <td>0.0</td>\n",
       "      <td>0.0</td>\n",
       "      <td>0.0</td>\n",
       "      <td>20.0</td>\n",
       "      <td>4.0</td>\n",
       "      <td>12.0</td>\n",
       "      <td>4.0</td>\n",
       "      <td>0.0</td>\n",
       "    </tr>\n",
       "    <tr>\n",
       "      <th>3</th>\n",
       "      <td>Adams Township, Butler County</td>\n",
       "      <td>12582.0</td>\n",
       "      <td>8.0</td>\n",
       "      <td>0.0</td>\n",
       "      <td>0.0</td>\n",
       "      <td>0.0</td>\n",
       "      <td>8.0</td>\n",
       "      <td>63.0</td>\n",
       "      <td>11.0</td>\n",
       "      <td>51.0</td>\n",
       "      <td>1.0</td>\n",
       "      <td>0.0</td>\n",
       "    </tr>\n",
       "    <tr>\n",
       "      <th>4</th>\n",
       "      <td>Adams Township, Cambria County</td>\n",
       "      <td>5868.0</td>\n",
       "      <td>0.0</td>\n",
       "      <td>0.0</td>\n",
       "      <td>0.0</td>\n",
       "      <td>0.0</td>\n",
       "      <td>0.0</td>\n",
       "      <td>25.0</td>\n",
       "      <td>9.0</td>\n",
       "      <td>16.0</td>\n",
       "      <td>0.0</td>\n",
       "      <td>0.0</td>\n",
       "    </tr>\n",
       "    <tr>\n",
       "      <th>5</th>\n",
       "      <td>Akron</td>\n",
       "      <td>3918.0</td>\n",
       "      <td>6.0</td>\n",
       "      <td>0.0</td>\n",
       "      <td>0.0</td>\n",
       "      <td>0.0</td>\n",
       "      <td>6.0</td>\n",
       "      <td>28.0</td>\n",
       "      <td>9.0</td>\n",
       "      <td>18.0</td>\n",
       "      <td>1.0</td>\n",
       "      <td>1.0</td>\n",
       "    </tr>\n",
       "    <tr>\n",
       "      <th>6</th>\n",
       "      <td>Alburtis</td>\n",
       "      <td>2390.0</td>\n",
       "      <td>1.0</td>\n",
       "      <td>0.0</td>\n",
       "      <td>0.0</td>\n",
       "      <td>1.0</td>\n",
       "      <td>0.0</td>\n",
       "      <td>15.0</td>\n",
       "      <td>0.0</td>\n",
       "      <td>15.0</td>\n",
       "      <td>0.0</td>\n",
       "      <td>0.0</td>\n",
       "    </tr>\n",
       "    <tr>\n",
       "      <th>7</th>\n",
       "      <td>Aldan</td>\n",
       "      <td>4150.0</td>\n",
       "      <td>2.0</td>\n",
       "      <td>0.0</td>\n",
       "      <td>1.0</td>\n",
       "      <td>1.0</td>\n",
       "      <td>0.0</td>\n",
       "      <td>87.0</td>\n",
       "      <td>4.0</td>\n",
       "      <td>82.0</td>\n",
       "      <td>1.0</td>\n",
       "      <td>0.0</td>\n",
       "    </tr>\n",
       "    <tr>\n",
       "      <th>8</th>\n",
       "      <td>Aleppo Township</td>\n",
       "      <td>1918.0</td>\n",
       "      <td>0.0</td>\n",
       "      <td>0.0</td>\n",
       "      <td>0.0</td>\n",
       "      <td>0.0</td>\n",
       "      <td>0.0</td>\n",
       "      <td>7.0</td>\n",
       "      <td>0.0</td>\n",
       "      <td>7.0</td>\n",
       "      <td>0.0</td>\n",
       "      <td>0.0</td>\n",
       "    </tr>\n",
       "    <tr>\n",
       "      <th>9</th>\n",
       "      <td>Aliquippa</td>\n",
       "      <td>9323.0</td>\n",
       "      <td>49.0</td>\n",
       "      <td>1.0</td>\n",
       "      <td>1.0</td>\n",
       "      <td>8.0</td>\n",
       "      <td>39.0</td>\n",
       "      <td>136.0</td>\n",
       "      <td>43.0</td>\n",
       "      <td>83.0</td>\n",
       "      <td>10.0</td>\n",
       "      <td>0.0</td>\n",
       "    </tr>\n",
       "    <tr>\n",
       "      <th>10</th>\n",
       "      <td>Allegheny Township, Blair County</td>\n",
       "      <td>6726.0</td>\n",
       "      <td>29.0</td>\n",
       "      <td>0.0</td>\n",
       "      <td>0.0</td>\n",
       "      <td>0.0</td>\n",
       "      <td>29.0</td>\n",
       "      <td>144.0</td>\n",
       "      <td>11.0</td>\n",
       "      <td>130.0</td>\n",
       "      <td>3.0</td>\n",
       "      <td>0.0</td>\n",
       "    </tr>\n",
       "    <tr>\n",
       "      <th>11</th>\n",
       "      <td>Allegheny Township, Westmoreland County</td>\n",
       "      <td>8332.0</td>\n",
       "      <td>4.0</td>\n",
       "      <td>0.0</td>\n",
       "      <td>0.0</td>\n",
       "      <td>2.0</td>\n",
       "      <td>2.0</td>\n",
       "      <td>100.0</td>\n",
       "      <td>10.0</td>\n",
       "      <td>90.0</td>\n",
       "      <td>0.0</td>\n",
       "      <td>0.0</td>\n",
       "    </tr>\n",
       "    <tr>\n",
       "      <th>12</th>\n",
       "      <td>Allentown</td>\n",
       "      <td>119277.0</td>\n",
       "      <td>628.0</td>\n",
       "      <td>12.0</td>\n",
       "      <td>64.0</td>\n",
       "      <td>329.0</td>\n",
       "      <td>223.0</td>\n",
       "      <td>4324.0</td>\n",
       "      <td>1263.0</td>\n",
       "      <td>2724.0</td>\n",
       "      <td>337.0</td>\n",
       "      <td>10.0</td>\n",
       "    </tr>\n",
       "    <tr>\n",
       "      <th>13</th>\n",
       "      <td>Altoona</td>\n",
       "      <td>46103.0</td>\n",
       "      <td>131.0</td>\n",
       "      <td>2.0</td>\n",
       "      <td>25.0</td>\n",
       "      <td>29.0</td>\n",
       "      <td>75.0</td>\n",
       "      <td>1035.0</td>\n",
       "      <td>259.0</td>\n",
       "      <td>733.0</td>\n",
       "      <td>43.0</td>\n",
       "      <td>9.0</td>\n",
       "    </tr>\n",
       "    <tr>\n",
       "      <th>14</th>\n",
       "      <td>Ambler</td>\n",
       "      <td>6514.0</td>\n",
       "      <td>12.0</td>\n",
       "      <td>0.0</td>\n",
       "      <td>0.0</td>\n",
       "      <td>6.0</td>\n",
       "      <td>6.0</td>\n",
       "      <td>92.0</td>\n",
       "      <td>5.0</td>\n",
       "      <td>84.0</td>\n",
       "      <td>3.0</td>\n",
       "      <td>1.0</td>\n",
       "    </tr>\n",
       "    <tr>\n",
       "      <th>15</th>\n",
       "      <td>Ambridge</td>\n",
       "      <td>6963.0</td>\n",
       "      <td>86.0</td>\n",
       "      <td>0.0</td>\n",
       "      <td>0.0</td>\n",
       "      <td>13.0</td>\n",
       "      <td>73.0</td>\n",
       "      <td>251.0</td>\n",
       "      <td>58.0</td>\n",
       "      <td>187.0</td>\n",
       "      <td>6.0</td>\n",
       "      <td>1.0</td>\n",
       "    </tr>\n",
       "    <tr>\n",
       "      <th>16</th>\n",
       "      <td>Amity Township</td>\n",
       "      <td>12744.0</td>\n",
       "      <td>3.0</td>\n",
       "      <td>0.0</td>\n",
       "      <td>0.0</td>\n",
       "      <td>1.0</td>\n",
       "      <td>2.0</td>\n",
       "      <td>121.0</td>\n",
       "      <td>25.0</td>\n",
       "      <td>87.0</td>\n",
       "      <td>9.0</td>\n",
       "      <td>5.0</td>\n",
       "    </tr>\n",
       "    <tr>\n",
       "      <th>17</th>\n",
       "      <td>Annville Township</td>\n",
       "      <td>4852.0</td>\n",
       "      <td>5.0</td>\n",
       "      <td>0.0</td>\n",
       "      <td>0.0</td>\n",
       "      <td>0.0</td>\n",
       "      <td>5.0</td>\n",
       "      <td>70.0</td>\n",
       "      <td>9.0</td>\n",
       "      <td>60.0</td>\n",
       "      <td>1.0</td>\n",
       "      <td>0.0</td>\n",
       "    </tr>\n",
       "    <tr>\n",
       "      <th>18</th>\n",
       "      <td>Armagh Township</td>\n",
       "      <td>3854.0</td>\n",
       "      <td>2.0</td>\n",
       "      <td>0.0</td>\n",
       "      <td>1.0</td>\n",
       "      <td>0.0</td>\n",
       "      <td>1.0</td>\n",
       "      <td>9.0</td>\n",
       "      <td>2.0</td>\n",
       "      <td>7.0</td>\n",
       "      <td>0.0</td>\n",
       "      <td>0.0</td>\n",
       "    </tr>\n",
       "    <tr>\n",
       "      <th>19</th>\n",
       "      <td>Arnold</td>\n",
       "      <td>5076.0</td>\n",
       "      <td>31.0</td>\n",
       "      <td>0.0</td>\n",
       "      <td>2.0</td>\n",
       "      <td>16.0</td>\n",
       "      <td>13.0</td>\n",
       "      <td>61.0</td>\n",
       "      <td>21.0</td>\n",
       "      <td>31.0</td>\n",
       "      <td>9.0</td>\n",
       "      <td>1.0</td>\n",
       "    </tr>\n",
       "  </tbody>\n",
       "</table>\n",
       "</div>"
      ],
      "text/plain": [
       "                                       City  Population  ViolentCrime  Murder  \\\n",
       "0      Abington Township, Lackawanna County      1750.0           1.0     0.0   \n",
       "1      Abington Township, Montgomery County     55559.0          63.0     0.0   \n",
       "2                                 Adamstown      1845.0           0.0     0.0   \n",
       "3             Adams Township, Butler County     12582.0           8.0     0.0   \n",
       "4            Adams Township, Cambria County      5868.0           0.0     0.0   \n",
       "5                                     Akron      3918.0           6.0     0.0   \n",
       "6                                  Alburtis      2390.0           1.0     0.0   \n",
       "7                                     Aldan      4150.0           2.0     0.0   \n",
       "8                           Aleppo Township      1918.0           0.0     0.0   \n",
       "9                                 Aliquippa      9323.0          49.0     1.0   \n",
       "10         Allegheny Township, Blair County      6726.0          29.0     0.0   \n",
       "11  Allegheny Township, Westmoreland County      8332.0           4.0     0.0   \n",
       "12                                Allentown    119277.0         628.0    12.0   \n",
       "13                                  Altoona     46103.0         131.0     2.0   \n",
       "14                                   Ambler      6514.0          12.0     0.0   \n",
       "15                                 Ambridge      6963.0          86.0     0.0   \n",
       "16                           Amity Township     12744.0           3.0     0.0   \n",
       "17                        Annville Township      4852.0           5.0     0.0   \n",
       "18                          Armagh Township      3854.0           2.0     0.0   \n",
       "19                                   Arnold      5076.0          31.0     0.0   \n",
       "\n",
       "    Rape  Robbery  AggravatedAssault  PropertyCrime  Burglary   Theft  \\\n",
       "0    0.0      0.0                1.0           14.0       4.0    10.0   \n",
       "1    5.0     28.0               30.0         1146.0     169.0   952.0   \n",
       "2    0.0      0.0                0.0           20.0       4.0    12.0   \n",
       "3    0.0      0.0                8.0           63.0      11.0    51.0   \n",
       "4    0.0      0.0                0.0           25.0       9.0    16.0   \n",
       "5    0.0      0.0                6.0           28.0       9.0    18.0   \n",
       "6    0.0      1.0                0.0           15.0       0.0    15.0   \n",
       "7    1.0      1.0                0.0           87.0       4.0    82.0   \n",
       "8    0.0      0.0                0.0            7.0       0.0     7.0   \n",
       "9    1.0      8.0               39.0          136.0      43.0    83.0   \n",
       "10   0.0      0.0               29.0          144.0      11.0   130.0   \n",
       "11   0.0      2.0                2.0          100.0      10.0    90.0   \n",
       "12  64.0    329.0              223.0         4324.0    1263.0  2724.0   \n",
       "13  25.0     29.0               75.0         1035.0     259.0   733.0   \n",
       "14   0.0      6.0                6.0           92.0       5.0    84.0   \n",
       "15   0.0     13.0               73.0          251.0      58.0   187.0   \n",
       "16   0.0      1.0                2.0          121.0      25.0    87.0   \n",
       "17   0.0      0.0                5.0           70.0       9.0    60.0   \n",
       "18   1.0      0.0                1.0            9.0       2.0     7.0   \n",
       "19   2.0     16.0               13.0           61.0      21.0    31.0   \n",
       "\n",
       "    MotorTheft  Arson  \n",
       "0          0.0    0.0  \n",
       "1         25.0    4.0  \n",
       "2          4.0    0.0  \n",
       "3          1.0    0.0  \n",
       "4          0.0    0.0  \n",
       "5          1.0    1.0  \n",
       "6          0.0    0.0  \n",
       "7          1.0    0.0  \n",
       "8          0.0    0.0  \n",
       "9         10.0    0.0  \n",
       "10         3.0    0.0  \n",
       "11         0.0    0.0  \n",
       "12       337.0   10.0  \n",
       "13        43.0    9.0  \n",
       "14         3.0    1.0  \n",
       "15         6.0    1.0  \n",
       "16         9.0    5.0  \n",
       "17         1.0    0.0  \n",
       "18         0.0    0.0  \n",
       "19         9.0    1.0  "
      ]
     },
     "execution_count": 99,
     "metadata": {},
     "output_type": "execute_result"
    }
   ],
   "source": [
    "raw_data.head(20)"
   ]
  },
  {
   "cell_type": "code",
   "execution_count": 28,
   "metadata": {},
   "outputs": [],
   "source": [
    "#Remove the bad column\n",
    "raw_data = raw_data.drop('Unnamed: 12',1)"
   ]
  },
  {
   "cell_type": "code",
   "execution_count": 36,
   "metadata": {},
   "outputs": [
    {
     "data": {
      "text/plain": [
       "City                  object\n",
       "Population           float64\n",
       "ViolentCrime         float64\n",
       "Murder               float64\n",
       "Rape                 float64\n",
       "Robbery              float64\n",
       "AggravatedAssault    float64\n",
       "PropertyCrime        float64\n",
       "Burglary             float64\n",
       "Theft                float64\n",
       "MotorTheft           float64\n",
       "Arson                float64\n",
       "dtype: object"
      ]
     },
     "execution_count": 36,
     "metadata": {},
     "output_type": "execute_result"
    }
   ],
   "source": [
    "raw_data.dtypes"
   ]
  },
  {
   "cell_type": "code",
   "execution_count": 33,
   "metadata": {
    "scrolled": true
   },
   "outputs": [],
   "source": [
    "#Clean data to remove commas\n",
    "raw_data['Population'] = raw_data['Population'].str.replace(',', '')\n",
    "raw_data['ViolentCrime'] = raw_data['ViolentCrime'].str.replace(',', '')\n",
    "#raw_data['Murder'] = raw_data['Murder'].str.replace(',', '')\n",
    "raw_data['Rape'] = raw_data['Rape'].str.replace(',', '')\n",
    "raw_data['Robbery'] = raw_data['Robbery'].str.replace(',', '')\n",
    "raw_data['AggravatedAssault'] = raw_data['AggravatedAssault'].str.replace(',', '')\n",
    "raw_data['PropertyCrime'] = raw_data['PropertyCrime'].str.replace(',', '')\n",
    "raw_data['Burglary'] = raw_data['Burglary'].str.replace(',', '')\n",
    "raw_data['Theft'] = raw_data['Theft'].str.replace(',', '')\n",
    "raw_data['MotorTheft'] = raw_data['MotorTheft'].str.replace(',', '')\n",
    "#raw_data['Arson'] = raw_data['Arson'].str.replace(',', '')"
   ]
  },
  {
   "cell_type": "code",
   "execution_count": 35,
   "metadata": {},
   "outputs": [],
   "source": [
    "#Clean data to convert to float\n",
    "raw_data['Population'] = raw_data['Population'].astype(float)\n",
    "raw_data['ViolentCrime'] = raw_data['ViolentCrime'].astype(float)\n",
    "raw_data['Rape'] = raw_data['Rape'].astype(float)\n",
    "raw_data['Robbery'] = raw_data['Robbery'].astype(float)\n",
    "raw_data['AggravatedAssault'] = raw_data['AggravatedAssault'].astype(float)\n",
    "raw_data['PropertyCrime'] = raw_data['PropertyCrime'].astype(float)\n",
    "raw_data['Burglary'] = raw_data['Burglary'].astype(float)\n",
    "raw_data['Theft'] = raw_data['Theft'].astype(float)\n",
    "raw_data['MotorTheft'] = raw_data['MotorTheft'].astype(float)"
   ]
  },
  {
   "cell_type": "code",
   "execution_count": 83,
   "metadata": {},
   "outputs": [],
   "source": [
    "model_data = raw_data.filter(['City','Population','Theft','Burglary','PropertyCrime'], axis=1)"
   ]
  },
  {
   "cell_type": "code",
   "execution_count": 84,
   "metadata": {},
   "outputs": [
    {
     "data": {
      "text/html": [
       "<div>\n",
       "<style scoped>\n",
       "    .dataframe tbody tr th:only-of-type {\n",
       "        vertical-align: middle;\n",
       "    }\n",
       "\n",
       "    .dataframe tbody tr th {\n",
       "        vertical-align: top;\n",
       "    }\n",
       "\n",
       "    .dataframe thead th {\n",
       "        text-align: right;\n",
       "    }\n",
       "</style>\n",
       "<table border=\"1\" class=\"dataframe\">\n",
       "  <thead>\n",
       "    <tr style=\"text-align: right;\">\n",
       "      <th></th>\n",
       "      <th>City</th>\n",
       "      <th>Population</th>\n",
       "      <th>Theft</th>\n",
       "      <th>Burglary</th>\n",
       "      <th>PropertyCrime</th>\n",
       "    </tr>\n",
       "  </thead>\n",
       "  <tbody>\n",
       "    <tr>\n",
       "      <th>0</th>\n",
       "      <td>Abington Township, Lackawanna County</td>\n",
       "      <td>1750.0</td>\n",
       "      <td>10.0</td>\n",
       "      <td>4.0</td>\n",
       "      <td>14.0</td>\n",
       "    </tr>\n",
       "    <tr>\n",
       "      <th>1</th>\n",
       "      <td>Abington Township, Montgomery County</td>\n",
       "      <td>55559.0</td>\n",
       "      <td>952.0</td>\n",
       "      <td>169.0</td>\n",
       "      <td>1146.0</td>\n",
       "    </tr>\n",
       "    <tr>\n",
       "      <th>2</th>\n",
       "      <td>Adamstown</td>\n",
       "      <td>1845.0</td>\n",
       "      <td>12.0</td>\n",
       "      <td>4.0</td>\n",
       "      <td>20.0</td>\n",
       "    </tr>\n",
       "    <tr>\n",
       "      <th>3</th>\n",
       "      <td>Adams Township, Butler County</td>\n",
       "      <td>12582.0</td>\n",
       "      <td>51.0</td>\n",
       "      <td>11.0</td>\n",
       "      <td>63.0</td>\n",
       "    </tr>\n",
       "    <tr>\n",
       "      <th>4</th>\n",
       "      <td>Adams Township, Cambria County</td>\n",
       "      <td>5868.0</td>\n",
       "      <td>16.0</td>\n",
       "      <td>9.0</td>\n",
       "      <td>25.0</td>\n",
       "    </tr>\n",
       "  </tbody>\n",
       "</table>\n",
       "</div>"
      ],
      "text/plain": [
       "                                   City  Population  Theft  Burglary  \\\n",
       "0  Abington Township, Lackawanna County      1750.0   10.0       4.0   \n",
       "1  Abington Township, Montgomery County     55559.0  952.0     169.0   \n",
       "2                             Adamstown      1845.0   12.0       4.0   \n",
       "3         Adams Township, Butler County     12582.0   51.0      11.0   \n",
       "4        Adams Township, Cambria County      5868.0   16.0       9.0   \n",
       "\n",
       "   PropertyCrime  \n",
       "0           14.0  \n",
       "1         1146.0  \n",
       "2           20.0  \n",
       "3           63.0  \n",
       "4           25.0  "
      ]
     },
     "execution_count": 84,
     "metadata": {},
     "output_type": "execute_result"
    }
   ],
   "source": [
    "model_data.head()"
   ]
  },
  {
   "cell_type": "code",
   "execution_count": 87,
   "metadata": {},
   "outputs": [
    {
     "data": {
      "text/plain": [
       "119277.0"
      ]
     },
     "execution_count": 87,
     "metadata": {},
     "output_type": "execute_result"
    }
   ],
   "source": [
    "model_data['Population'].max()"
   ]
  },
  {
   "cell_type": "code",
   "execution_count": 93,
   "metadata": {},
   "outputs": [],
   "source": [
    "#Remove the NaN in the data\n",
    "model_data = model_data.fillna(0)"
   ]
  },
  {
   "cell_type": "code",
   "execution_count": 86,
   "metadata": {},
   "outputs": [],
   "source": [
    "model_data['Population']=model_data['Population'][np.abs(model_data['Population']-model_data['Population'].mean()) <= (3*model_data['Population'].std())]"
   ]
  },
  {
   "cell_type": "code",
   "execution_count": 90,
   "metadata": {},
   "outputs": [],
   "source": [
    "# Remove outliers greater than 1500\n",
    "model_data['PropertyCrime'] = model_data['PropertyCrime'][model_data['PropertyCrime'] < 1500]\n",
    "# Remove outliers greater than 50000\n",
    "model_data['Population'] = model_data['Population'][model_data['Population'] < 50000]"
   ]
  },
  {
   "cell_type": "code",
   "execution_count": 91,
   "metadata": {},
   "outputs": [
    {
     "data": {
      "image/png": "[encoded data removed]",
      "text/plain": [
       "<Figure size 432x288 with 1 Axes>"
      ]
     },
     "metadata": {
      "needs_background": "light"
     },
     "output_type": "display_data"
    }
   ],
   "source": [
    "plt.scatter(model_data['PropertyCrime'], model_data['Population'])\n",
    "plt.title('Raw values')\n",
    "plt.show()"
   ]
  },
  {
   "cell_type": "code",
   "execution_count": 94,
   "metadata": {
    "scrolled": true
   },
   "outputs": [
    {
     "name": "stdout",
     "output_type": "stream",
     "text": [
      "\n",
      "Coefficients: \n",
      " [ 0.01915361  0.12529643 -0.40939866]\n",
      "\n",
      "Intercept: \n",
      " -3.1422554416307378\n",
      "\n",
      "R-squared:\n",
      "0.5378462288924882\n"
     ]
    }
   ],
   "source": [
    "regr = linear_model.LinearRegression()\n",
    "Y = model_data['PropertyCrime']\n",
    "X = model_data[['Population','Theft','Burglary']]\n",
    "regr.fit(X, Y)\n",
    "# Inspect the results.\n",
    "print('\\nCoefficients: \\n', regr.coef_)\n",
    "print('\\nIntercept: \\n', regr.intercept_)\n",
    "print('\\nR-squared:')\n",
    "print(regr.score(X, Y))"
   ]
  },
  {
   "cell_type": "code",
   "execution_count": 95,
   "metadata": {},
   "outputs": [
    {
     "data": {
      "image/png": "[encoded data removed]",
      "text/plain": [
       "<Figure size 432x288 with 1 Axes>"
      ]
     },
     "metadata": {
      "needs_background": "light"
     },
     "output_type": "display_data"
    }
   ],
   "source": [
    "# Extract predicted values.\n",
    "predicted = regr.predict(X).ravel()\n",
    "actual = model_data['PropertyCrime']\n",
    "\n",
    "# Calculate the error, also called the residual.\n",
    "residual = actual - predicted\n",
    "\n",
    "# This looks a bit concerning.\n",
    "plt.hist(residual)\n",
    "plt.title('Residual counts')\n",
    "plt.xlabel('Residual')\n",
    "plt.ylabel('Count')\n",
    "plt.show()"
   ]
  },
  {
   "cell_type": "code",
   "execution_count": 96,
   "metadata": {},
   "outputs": [
    {
     "data": {
      "image/png": "[encoded data removed]",
      "text/plain": [
       "<Figure size 432x288 with 1 Axes>"
      ]
     },
     "metadata": {
      "needs_background": "light"
     },
     "output_type": "display_data"
    }
   ],
   "source": [
    "plt.scatter(predicted, residual)\n",
    "plt.xlabel('Predicted')\n",
    "plt.ylabel('Residual')\n",
    "plt.axhline(y=0)\n",
    "plt.title('Residual vs. Predicted')\n",
    "plt.show()"
   ]
  },
  {
   "cell_type": "code",
   "execution_count": 52,
   "metadata": {},
   "outputs": [
    {
     "data": {
      "text/html": [
       "<div>\n",
       "<style scoped>\n",
       "    .dataframe tbody tr th:only-of-type {\n",
       "        vertical-align: middle;\n",
       "    }\n",
       "\n",
       "    .dataframe tbody tr th {\n",
       "        vertical-align: top;\n",
       "    }\n",
       "\n",
       "    .dataframe thead th {\n",
       "        text-align: right;\n",
       "    }\n",
       "</style>\n",
       "<table border=\"1\" class=\"dataframe\">\n",
       "  <thead>\n",
       "    <tr style=\"text-align: right;\">\n",
       "      <th></th>\n",
       "      <th>Population</th>\n",
       "      <th>Murder</th>\n",
       "      <th>Robbery</th>\n",
       "    </tr>\n",
       "  </thead>\n",
       "  <tbody>\n",
       "    <tr>\n",
       "      <th>Population</th>\n",
       "      <td>1.000000</td>\n",
       "      <td>0.004548</td>\n",
       "      <td>-0.015555</td>\n",
       "    </tr>\n",
       "    <tr>\n",
       "      <th>Murder</th>\n",
       "      <td>0.004548</td>\n",
       "      <td>1.000000</td>\n",
       "      <td>0.994242</td>\n",
       "    </tr>\n",
       "    <tr>\n",
       "      <th>Robbery</th>\n",
       "      <td>-0.015555</td>\n",
       "      <td>0.994242</td>\n",
       "      <td>1.000000</td>\n",
       "    </tr>\n",
       "  </tbody>\n",
       "</table>\n",
       "</div>"
      ],
      "text/plain": [
       "            Population    Murder   Robbery\n",
       "Population    1.000000  0.004548 -0.015555\n",
       "Murder        0.004548  1.000000  0.994242\n",
       "Robbery      -0.015555  0.994242  1.000000"
      ]
     },
     "metadata": {},
     "output_type": "display_data"
    }
   ],
   "source": [
    "#Correlation matrix with Murder as one of the columns\n",
    "correlation_matrix = X.corr()\n",
    "display(correlation_matrix)"
   ]
  },
  {
   "cell_type": "code",
   "execution_count": 64,
   "metadata": {
    "scrolled": true
   },
   "outputs": [
    {
     "data": {
      "text/plain": [
       "array([  0.12767648,   0.75050031,   0.6579569 ,   0.67612114,\n",
       "         0.55262982,   0.55037371, -33.76200637,   0.58164796,\n",
       "         0.51047309,   0.55972498])"
      ]
     },
     "execution_count": 64,
     "metadata": {},
     "output_type": "execute_result"
    }
   ],
   "source": [
    "#This is the model with Murder, Robbery, Population that attest to PropertyCrime\n",
    "from sklearn.model_selection import cross_val_score\n",
    "cross_val_score(regr,X,Y, cv=10)"
   ]
  },
  {
   "cell_type": "code",
   "execution_count": 81,
   "metadata": {},
   "outputs": [
    {
     "data": {
      "text/html": [
       "<div>\n",
       "<style scoped>\n",
       "    .dataframe tbody tr th:only-of-type {\n",
       "        vertical-align: middle;\n",
       "    }\n",
       "\n",
       "    .dataframe tbody tr th {\n",
       "        vertical-align: top;\n",
       "    }\n",
       "\n",
       "    .dataframe thead th {\n",
       "        text-align: right;\n",
       "    }\n",
       "</style>\n",
       "<table border=\"1\" class=\"dataframe\">\n",
       "  <thead>\n",
       "    <tr style=\"text-align: right;\">\n",
       "      <th></th>\n",
       "      <th>Population</th>\n",
       "      <th>Theft</th>\n",
       "      <th>Robbery</th>\n",
       "    </tr>\n",
       "  </thead>\n",
       "  <tbody>\n",
       "    <tr>\n",
       "      <th>Population</th>\n",
       "      <td>1.000000</td>\n",
       "      <td>0.047293</td>\n",
       "      <td>-0.015555</td>\n",
       "    </tr>\n",
       "    <tr>\n",
       "      <th>Theft</th>\n",
       "      <td>0.047293</td>\n",
       "      <td>1.000000</td>\n",
       "      <td>0.989295</td>\n",
       "    </tr>\n",
       "    <tr>\n",
       "      <th>Robbery</th>\n",
       "      <td>-0.015555</td>\n",
       "      <td>0.989295</td>\n",
       "      <td>1.000000</td>\n",
       "    </tr>\n",
       "  </tbody>\n",
       "</table>\n",
       "</div>"
      ],
      "text/plain": [
       "            Population     Theft   Robbery\n",
       "Population    1.000000  0.047293 -0.015555\n",
       "Theft         0.047293  1.000000  0.989295\n",
       "Robbery      -0.015555  0.989295  1.000000"
      ]
     },
     "metadata": {},
     "output_type": "display_data"
    }
   ],
   "source": [
    "#Correlation matrix with Theft as the column\n",
    "correlation_matrix = X.corr()\n",
    "display(correlation_matrix)"
   ]
  },
  {
   "cell_type": "code",
   "execution_count": 82,
   "metadata": {},
   "outputs": [
    {
     "data": {
      "text/plain": [
       "array([  0.34327207,   0.61567792,   0.70982627,   0.74582708,\n",
       "         0.67088364,   0.65284185, -11.05365516,   0.67501014,\n",
       "         0.75349976,   0.67295457])"
      ]
     },
     "execution_count": 82,
     "metadata": {},
     "output_type": "execute_result"
    }
   ],
   "source": [
    "#This is the model with Theft, Robbery, Population that attest to PropertyCrime\n",
    "from sklearn.model_selection import cross_val_score\n",
    "cross_val_score(regr,X,Y, cv=10)"
   ]
  },
  {
   "cell_type": "code",
   "execution_count": 97,
   "metadata": {},
   "outputs": [
    {
     "data": {
      "text/html": [
       "<div>\n",
       "<style scoped>\n",
       "    .dataframe tbody tr th:only-of-type {\n",
       "        vertical-align: middle;\n",
       "    }\n",
       "\n",
       "    .dataframe tbody tr th {\n",
       "        vertical-align: top;\n",
       "    }\n",
       "\n",
       "    .dataframe thead th {\n",
       "        text-align: right;\n",
       "    }\n",
       "</style>\n",
       "<table border=\"1\" class=\"dataframe\">\n",
       "  <thead>\n",
       "    <tr style=\"text-align: right;\">\n",
       "      <th></th>\n",
       "      <th>Population</th>\n",
       "      <th>Theft</th>\n",
       "      <th>Burglary</th>\n",
       "    </tr>\n",
       "  </thead>\n",
       "  <tbody>\n",
       "    <tr>\n",
       "      <th>Population</th>\n",
       "      <td>1.000000</td>\n",
       "      <td>0.047293</td>\n",
       "      <td>0.025240</td>\n",
       "    </tr>\n",
       "    <tr>\n",
       "      <th>Theft</th>\n",
       "      <td>0.047293</td>\n",
       "      <td>1.000000</td>\n",
       "      <td>0.991495</td>\n",
       "    </tr>\n",
       "    <tr>\n",
       "      <th>Burglary</th>\n",
       "      <td>0.025240</td>\n",
       "      <td>0.991495</td>\n",
       "      <td>1.000000</td>\n",
       "    </tr>\n",
       "  </tbody>\n",
       "</table>\n",
       "</div>"
      ],
      "text/plain": [
       "            Population     Theft  Burglary\n",
       "Population    1.000000  0.047293  0.025240\n",
       "Theft         0.047293  1.000000  0.991495\n",
       "Burglary      0.025240  0.991495  1.000000"
      ]
     },
     "metadata": {},
     "output_type": "display_data"
    }
   ],
   "source": [
    "#Correlation matrix with Burglary and Theft as one of the columns\n",
    "correlation_matrix = X.corr()\n",
    "display(correlation_matrix)"
   ]
  },
  {
   "cell_type": "code",
   "execution_count": 98,
   "metadata": {},
   "outputs": [
    {
     "data": {
      "text/plain": [
       "array([  0.16660178,   0.69575055,   0.68703213,   0.6182023 ,\n",
       "         0.54164065,   0.55640288, -41.48287247,   0.60593736,\n",
       "         0.56756917,   0.55302367])"
      ]
     },
     "execution_count": 98,
     "metadata": {},
     "output_type": "execute_result"
    }
   ],
   "source": [
    "#This is the model with Theft, Burglary, Population that attest to PropertyCrime\n",
    "from sklearn.model_selection import cross_val_score\n",
    "cross_val_score(regr,X,Y, cv=10)"
   ]
  },
  {
   "cell_type": "markdown",
   "metadata": {},
   "source": [
    "Compared to the previous model for the New York state, there was difficulty and inconsistencies to that specifiction where the model was not all too strong. Changing murder and robbery variables to binary/categorical variables created some changes within the model's variance that made it difficult to predict Property Crime.\n",
    "\n",
    "To revise this a bit, I tested through some changes by first leaving out the binary/categorical variables and using the rates itself. This eliminated small outlier variables of small murder rates within cities shouldn't be categorically equivalent to cities that might have higher murder rates - they should just be compared to how they are. After I just tested variables that I thought would be correlate to Property Crime by swapping variables. Using Population, Theft, and Robbery, I ended up getting the most consistent of results (as shown above) with a cross validation scores near 65-70%. This tells me that instead of murder, using Theft better tweaked my model better than anything else. Testing through different variable bits better helped adjusted my model."
   ]
  },
  {
   "cell_type": "code",
   "execution_count": null,
   "metadata": {},
   "outputs": [],
   "source": []
  }
 ],
 "metadata": {
  "kernelspec": {
   "display_name": "Python 3",
   "language": "python",
   "name": "python3"
  },
  "language_info": {
   "codemirror_mode": {
    "name": "ipython",
    "version": 3
   },
   "file_extension": ".py",
   "mimetype": "text/x-python",
   "name": "python",
   "nbconvert_exporter": "python",
   "pygments_lexer": "ipython3",
   "version": "3.7.0"
  }
 },
 "nbformat": 4,
 "nbformat_minor": 2
}
